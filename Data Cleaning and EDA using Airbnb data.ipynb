{
 "cells": [
  {
   "cell_type": "markdown",
   "id": "9412d0b6-b8f0-4425-8716-644fcec6960c",
   "metadata": {},
   "source": [
    "## INSTRUCTIONS - IMPORTANT:\n",
    "\n",
    "Every student is expected to submit their own, original solutions for this assignment. While collaborative discussions among classmates are encouraged for better understanding, it is crucial that the work you submit is your own. Copying or replicating someone else's solutions is a breach of academic integrity and will not be tolerated. The use of **AI tools** is also **prohibited** for this assignment."
   ]
  },
  {
   "cell_type": "markdown",
   "id": "1596d825",
   "metadata": {},
   "source": [
    "The dataset used in this assignment is derived from Inside Airbnb, available [here](http://data.insideairbnb.com/the-netherlands/north-holland/amsterdam/2023-06-05/visualisations/listings.csv). It is licensed under a [Creative Commons Attribution 4.0 International License](https://creativecommons.org/licenses/by/4.0/).\n",
    "\n",
    "**Please note that this dataset has been modified and adapted for the scope of this academic assignment. If you are interested in the original data or further Airbnb datasets, we encourage you to visit Inside Airbnb's website: [insideairbnb.com](http://insideairbnb.com).**\n"
   ]
  },
  {
   "cell_type": "markdown",
   "id": "8b607200-74f5-436a-95e1-b3d9d8f0518f",
   "metadata": {},
   "source": [
    "<h3> This assignment is divided into two main components: </h3>\n",
    "\n",
    "1. **Data Manipulation**: Focused on cleaning and preparing the dataset.\n",
    "2. **Exploratory Data Analysis (EDA)**: Concentrated on analyzing and interpreting the data."
   ]
  },
  {
   "cell_type": "markdown",
   "id": "f2900ce9",
   "metadata": {},
   "source": [
    "# PART-1 (Data Cleaning and Manipulation)\n",
    "\n",
    "We will begin by importing the required modules and reading the data file."
   ]
  },
  {
   "cell_type": "code",
   "execution_count": 1,
   "id": "82a7ff87-b67e-4670-83b6-5725b6abea96",
   "metadata": {
    "tags": []
   },
   "outputs": [],
   "source": [
    "import numpy as np\n",
    "from sklearn.datasets import load_iris\n",
    "from sklearn import preprocessing\n",
    "import pandas as pd\n",
    "import seaborn as sns\n",
    "from scipy import stats\n",
    "import matplotlib.pyplot as plt\n",
    "%matplotlib inline"
   ]
  },
  {
   "cell_type": "code",
   "execution_count": 2,
   "id": "3e33b6df-3ad0-418e-8088-958ddd75adb3",
   "metadata": {
    "tags": []
   },
   "outputs": [],
   "source": [
    "df = pd.read_csv(\"airbnb_final.csv\")"
   ]
  },
  {
   "cell_type": "code",
   "execution_count": 3,
   "id": "ab68d38f-2401-44b3-b8a8-fefb50045393",
   "metadata": {
    "tags": []
   },
   "outputs": [
    {
     "data": {
      "text/html": [
       "<div>\n",
       "<style scoped>\n",
       "    .dataframe tbody tr th:only-of-type {\n",
       "        vertical-align: middle;\n",
       "    }\n",
       "\n",
       "    .dataframe tbody tr th {\n",
       "        vertical-align: top;\n",
       "    }\n",
       "\n",
       "    .dataframe thead th {\n",
       "        text-align: right;\n",
       "    }\n",
       "</style>\n",
       "<table border=\"1\" class=\"dataframe\">\n",
       "  <thead>\n",
       "    <tr style=\"text-align: right;\">\n",
       "      <th></th>\n",
       "      <th>host_id</th>\n",
       "      <th>neighbourhood</th>\n",
       "      <th>latitude</th>\n",
       "      <th>longitude</th>\n",
       "      <th>room_type</th>\n",
       "      <th>price in $</th>\n",
       "      <th>minimum_nights</th>\n",
       "      <th>availability_365</th>\n",
       "      <th>Apartment_type</th>\n",
       "      <th>City</th>\n",
       "      <th>Rating</th>\n",
       "      <th>No_of_bed_rooms</th>\n",
       "      <th>No_of_beds</th>\n",
       "      <th>No_of_bathrooms</th>\n",
       "      <th>Bathroom_type</th>\n",
       "    </tr>\n",
       "  </thead>\n",
       "  <tbody>\n",
       "    <tr>\n",
       "      <th>0</th>\n",
       "      <td>3159.0</td>\n",
       "      <td>Oostelijk Havengebied - Indische Buurt</td>\n",
       "      <td>52.36435</td>\n",
       "      <td>4.94358</td>\n",
       "      <td>Private room</td>\n",
       "      <td>69.0</td>\n",
       "      <td>3.0</td>\n",
       "      <td>7.0</td>\n",
       "      <td>Condo</td>\n",
       "      <td>Amsterdam</td>\n",
       "      <td>4.89</td>\n",
       "      <td>1.0</td>\n",
       "      <td>1.0</td>\n",
       "      <td>1.5</td>\n",
       "      <td>shared</td>\n",
       "    </tr>\n",
       "    <tr>\n",
       "      <th>1</th>\n",
       "      <td>59484.0</td>\n",
       "      <td>Centrum-Oost</td>\n",
       "      <td>52.36407</td>\n",
       "      <td>4.89393</td>\n",
       "      <td>Private room</td>\n",
       "      <td>106.0</td>\n",
       "      <td>1.0</td>\n",
       "      <td>0.0</td>\n",
       "      <td>Townhouse</td>\n",
       "      <td>Amsterdam</td>\n",
       "      <td>4.44</td>\n",
       "      <td>1.0</td>\n",
       "      <td>1.0</td>\n",
       "      <td>NaN</td>\n",
       "      <td>private</td>\n",
       "    </tr>\n",
       "    <tr>\n",
       "      <th>2</th>\n",
       "      <td>1100324.0</td>\n",
       "      <td>De Pijp - Rivierenbuurt</td>\n",
       "      <td>52.35150</td>\n",
       "      <td>4.89656</td>\n",
       "      <td>Entire home/apt</td>\n",
       "      <td>270.0</td>\n",
       "      <td>4.0</td>\n",
       "      <td>2.0</td>\n",
       "      <td>Rental unit</td>\n",
       "      <td>Amsterdam</td>\n",
       "      <td>4.86</td>\n",
       "      <td>3.0</td>\n",
       "      <td>3.0</td>\n",
       "      <td>1.5</td>\n",
       "      <td>private</td>\n",
       "    </tr>\n",
       "    <tr>\n",
       "      <th>3</th>\n",
       "      <td>748161.0</td>\n",
       "      <td>Oud-Oost</td>\n",
       "      <td>52.36420</td>\n",
       "      <td>4.92829</td>\n",
       "      <td>Entire home/apt</td>\n",
       "      <td>200.0</td>\n",
       "      <td>3.0</td>\n",
       "      <td>0.0</td>\n",
       "      <td>Rental unit</td>\n",
       "      <td>Amsterdam</td>\n",
       "      <td>4.76</td>\n",
       "      <td>1.0</td>\n",
       "      <td>1.0</td>\n",
       "      <td>1.5</td>\n",
       "      <td>private</td>\n",
       "    </tr>\n",
       "    <tr>\n",
       "      <th>4</th>\n",
       "      <td>97647.0</td>\n",
       "      <td>Centrum-West</td>\n",
       "      <td>52.38761</td>\n",
       "      <td>4.89188</td>\n",
       "      <td>Private room</td>\n",
       "      <td>137.0</td>\n",
       "      <td>3.0</td>\n",
       "      <td>0.0</td>\n",
       "      <td>Houseboat</td>\n",
       "      <td>Amsterdam</td>\n",
       "      <td>4.94</td>\n",
       "      <td>1.0</td>\n",
       "      <td>1.0</td>\n",
       "      <td>1.5</td>\n",
       "      <td>private</td>\n",
       "    </tr>\n",
       "  </tbody>\n",
       "</table>\n",
       "</div>"
      ],
      "text/plain": [
       "     host_id                           neighbourhood  latitude  longitude  \\\n",
       "0     3159.0  Oostelijk Havengebied - Indische Buurt  52.36435    4.94358   \n",
       "1    59484.0                            Centrum-Oost  52.36407    4.89393   \n",
       "2  1100324.0                 De Pijp - Rivierenbuurt  52.35150    4.89656   \n",
       "3   748161.0                                Oud-Oost  52.36420    4.92829   \n",
       "4    97647.0                            Centrum-West  52.38761    4.89188   \n",
       "\n",
       "         room_type  price in $  minimum_nights  availability_365  \\\n",
       "0     Private room        69.0             3.0               7.0   \n",
       "1     Private room       106.0             1.0               0.0   \n",
       "2  Entire home/apt       270.0             4.0               2.0   \n",
       "3  Entire home/apt       200.0             3.0               0.0   \n",
       "4     Private room       137.0             3.0               0.0   \n",
       "\n",
       "  Apartment_type       City  Rating  No_of_bed_rooms  No_of_beds  \\\n",
       "0          Condo  Amsterdam    4.89              1.0         1.0   \n",
       "1      Townhouse  Amsterdam    4.44              1.0         1.0   \n",
       "2    Rental unit  Amsterdam    4.86              3.0         3.0   \n",
       "3    Rental unit  Amsterdam    4.76              1.0         1.0   \n",
       "4      Houseboat  Amsterdam    4.94              1.0         1.0   \n",
       "\n",
       "   No_of_bathrooms Bathroom_type  \n",
       "0              1.5        shared  \n",
       "1              NaN       private  \n",
       "2              1.5       private  \n",
       "3              1.5       private  \n",
       "4              1.5       private  "
      ]
     },
     "execution_count": 3,
     "metadata": {},
     "output_type": "execute_result"
    }
   ],
   "source": [
    "df.head()"
   ]
  },
  {
   "cell_type": "markdown",
   "id": "c065dce8",
   "metadata": {},
   "source": [
    "### 1.1. **What is the shape of the dataset?**"
   ]
  },
  {
   "cell_type": "code",
   "execution_count": 5,
   "id": "24dcb753-4172-43d8-b484-081f9ebbbaa2",
   "metadata": {
    "tags": []
   },
   "outputs": [
    {
     "data": {
      "text/plain": [
       "(7608, 15)"
      ]
     },
     "execution_count": 5,
     "metadata": {},
     "output_type": "execute_result"
    }
   ],
   "source": [
    "#Code goes here\n",
    "df.shape"
   ]
  },
  {
   "cell_type": "markdown",
   "id": "53955378",
   "metadata": {},
   "source": [
    "### 1.2 **Identify the data types of each column. Are there any columns that need type conversion?**"
   ]
  },
  {
   "cell_type": "code",
   "execution_count": 11,
   "id": "26c488ac-4992-4e8f-b3bb-e31ce5373c20",
   "metadata": {
    "tags": []
   },
   "outputs": [
    {
     "name": "stdout",
     "output_type": "stream",
     "text": [
      "host_id: float64\n",
      "neighbourhood: object\n",
      "latitude: float64\n",
      "longitude: float64\n",
      "room_type: object\n",
      "price in $: float64\n",
      "minimum_nights: float64\n",
      "availability_365: float64\n",
      "Apartment_type: object\n",
      "City: object\n",
      "Rating: float64\n",
      "No_of_bed_rooms: float64\n",
      "No_of_beds: float64\n",
      "No_of_bathrooms: float64\n",
      "Bathroom_type: object\n"
     ]
    }
   ],
   "source": [
    "# 1.2.1 Code to identify data types goes here.\n",
    "#iterates each column in the data fram and prints data type using dtaaframe.dtype method\n",
    "for col in df.columns:\n",
    "    print(f\"{col}: {df[col].dtype}\")"
   ]
  },
  {
   "cell_type": "raw",
   "id": "32fcd176-c3ba-4b11-b599-1443f4bfde7f",
   "metadata": {},
   "source": [
    "1.2.2 List the columns that need their type changed.\n",
    "host_id should be changed to int data type as it is a distinct and discrete value"
   ]
  },
  {
   "cell_type": "code",
   "execution_count": 13,
   "id": "5fd686a9-b4f8-49af-8b1c-0423374cdbbc",
   "metadata": {
    "tags": []
   },
   "outputs": [],
   "source": [
    "# 1.2.3 change the host_id column to an integer \n",
    "df['host_id'] = df['host_id'].fillna(0).astype('int64')"
   ]
  },
  {
   "cell_type": "markdown",
   "id": "7684276b",
   "metadata": {},
   "source": [
    "### 1.3. **Are there any duplicate rows in the dataset? If yes, how would you handle them?**"
   ]
  },
  {
   "cell_type": "code",
   "execution_count": 16,
   "id": "c1988573-15f6-47b3-acf9-2e57ac5decaf",
   "metadata": {
    "tags": []
   },
   "outputs": [
    {
     "data": {
      "text/plain": [
       "0"
      ]
     },
     "execution_count": 16,
     "metadata": {},
     "output_type": "execute_result"
    }
   ],
   "source": [
    "# 1.3.1 check for duplicate values\n",
    "df.duplicated().sum()"
   ]
  },
  {
   "cell_type": "raw",
   "id": "f345e347",
   "metadata": {},
   "source": [
    "1.3.2 How would you handle duplicate rows?\n",
    "drop duplicate values in 'host_id' as each id value should be distinct for each person"
   ]
  },
  {
   "cell_type": "markdown",
   "id": "82b7d3f0",
   "metadata": {},
   "source": [
    "### 1.4. **Check for missing values, How would you handle the missing values in the dataset?**"
   ]
  },
  {
   "cell_type": "code",
   "execution_count": 19,
   "id": "40a3d1d9-1d7d-48ed-a30f-70875176eed1",
   "metadata": {
    "tags": []
   },
   "outputs": [
    {
     "data": {
      "text/plain": [
       "host_id                0\n",
       "neighbourhood          0\n",
       "latitude               4\n",
       "longitude              6\n",
       "room_type              0\n",
       "price in $            10\n",
       "minimum_nights         9\n",
       "availability_365       1\n",
       "Apartment_type         1\n",
       "City                   1\n",
       "Rating              1578\n",
       "No_of_bed_rooms      284\n",
       "No_of_beds            17\n",
       "No_of_bathrooms      804\n",
       "Bathroom_type          1\n",
       "dtype: int64"
      ]
     },
     "execution_count": 19,
     "metadata": {},
     "output_type": "execute_result"
    }
   ],
   "source": [
    "# 1.4.1 check for missing values\n",
    "df.isnull().sum()"
   ]
  },
  {
   "cell_type": "raw",
   "id": "b5e13ce7",
   "metadata": {},
   "source": [
    "1.4.2 List some ways you might handle columns with missing values.\n",
    ">>> Drop 'host_id' rows with missing values or zeroes, since primary key should be a valid non-zero positive integer\n",
    ">>> We can populate 'price in $' using median or mean of the total column values and replace NaN in 'City' with the most apartments available\n",
    ">>>To prevent erroneous analysis, drop missing values in the rest of the columns"
   ]
  },
  {
   "cell_type": "code",
   "execution_count": 21,
   "id": "1daaf9d4-38d3-4876-b32c-41729b16c03b",
   "metadata": {
    "tags": []
   },
   "outputs": [],
   "source": [
    "# 1.4.3 Populate missing values in the 'price in $' column with the mean.\n",
    "df['price in $'] = df['price in $'].fillna(df['price in $'].mean())"
   ]
  },
  {
   "cell_type": "code",
   "execution_count": 23,
   "id": "be21ec60-ba4e-4404-816d-de71c4b9ddd8",
   "metadata": {
    "tags": []
   },
   "outputs": [
    {
     "data": {
      "text/plain": [
       "0"
      ]
     },
     "execution_count": 23,
     "metadata": {},
     "output_type": "execute_result"
    }
   ],
   "source": [
    "# 1.4.4 Verify that there are no more missing values in the 'price in $' column\n",
    "df['price in $'].isnull().sum()"
   ]
  },
  {
   "cell_type": "code",
   "execution_count": 25,
   "id": "f1eca599",
   "metadata": {},
   "outputs": [
    {
     "data": {
      "text/plain": [
       "False"
      ]
     },
     "execution_count": 25,
     "metadata": {},
     "output_type": "execute_result"
    }
   ],
   "source": [
    "# 1.4.5 Populate all missing values in the City column with \"Amsterdam\"\n",
    "df['City'] = df['City'].fillna(\"Amsterdam\")\n",
    "df['City'].isnull().any()"
   ]
  },
  {
   "cell_type": "code",
   "execution_count": 27,
   "id": "f31b257c",
   "metadata": {},
   "outputs": [],
   "source": [
    "# 1.4.7 Drop all remaining rows with missing data. Store the result in a new dataframe called df2.\n",
    "df2 = df.dropna(subset = ['neighbourhood','latitude', 'longitude','minimum_nights','availability_365','Apartment_type','Rating','No_of_bed_rooms','No_of_beds','No_of_bathrooms','Bathroom_type'])"
   ]
  },
  {
   "cell_type": "code",
   "execution_count": 29,
   "id": "07326fa3-872b-43d5-9e07-d9b291ab4446",
   "metadata": {
    "tags": []
   },
   "outputs": [
    {
     "data": {
      "text/html": [
       "<div>\n",
       "<style scoped>\n",
       "    .dataframe tbody tr th:only-of-type {\n",
       "        vertical-align: middle;\n",
       "    }\n",
       "\n",
       "    .dataframe tbody tr th {\n",
       "        vertical-align: top;\n",
       "    }\n",
       "\n",
       "    .dataframe thead th {\n",
       "        text-align: right;\n",
       "    }\n",
       "</style>\n",
       "<table border=\"1\" class=\"dataframe\">\n",
       "  <thead>\n",
       "    <tr style=\"text-align: right;\">\n",
       "      <th></th>\n",
       "      <th>host_id</th>\n",
       "      <th>neighbourhood</th>\n",
       "      <th>latitude</th>\n",
       "      <th>longitude</th>\n",
       "      <th>room_type</th>\n",
       "      <th>price in $</th>\n",
       "      <th>minimum_nights</th>\n",
       "      <th>availability_365</th>\n",
       "      <th>Apartment_type</th>\n",
       "      <th>City</th>\n",
       "      <th>Rating</th>\n",
       "      <th>No_of_bed_rooms</th>\n",
       "      <th>No_of_beds</th>\n",
       "      <th>No_of_bathrooms</th>\n",
       "      <th>Bathroom_type</th>\n",
       "    </tr>\n",
       "  </thead>\n",
       "  <tbody>\n",
       "    <tr>\n",
       "      <th>0</th>\n",
       "      <td>3159</td>\n",
       "      <td>Oostelijk Havengebied - Indische Buurt</td>\n",
       "      <td>52.36435</td>\n",
       "      <td>4.94358</td>\n",
       "      <td>Private room</td>\n",
       "      <td>69.0</td>\n",
       "      <td>3.0</td>\n",
       "      <td>7.0</td>\n",
       "      <td>Condo</td>\n",
       "      <td>Amsterdam</td>\n",
       "      <td>4.89</td>\n",
       "      <td>1.0</td>\n",
       "      <td>1.0</td>\n",
       "      <td>1.5</td>\n",
       "      <td>shared</td>\n",
       "    </tr>\n",
       "    <tr>\n",
       "      <th>2</th>\n",
       "      <td>1100324</td>\n",
       "      <td>De Pijp - Rivierenbuurt</td>\n",
       "      <td>52.35150</td>\n",
       "      <td>4.89656</td>\n",
       "      <td>Entire home/apt</td>\n",
       "      <td>270.0</td>\n",
       "      <td>4.0</td>\n",
       "      <td>2.0</td>\n",
       "      <td>Rental unit</td>\n",
       "      <td>Amsterdam</td>\n",
       "      <td>4.86</td>\n",
       "      <td>3.0</td>\n",
       "      <td>3.0</td>\n",
       "      <td>1.5</td>\n",
       "      <td>private</td>\n",
       "    </tr>\n",
       "    <tr>\n",
       "      <th>3</th>\n",
       "      <td>748161</td>\n",
       "      <td>Oud-Oost</td>\n",
       "      <td>52.36420</td>\n",
       "      <td>4.92829</td>\n",
       "      <td>Entire home/apt</td>\n",
       "      <td>200.0</td>\n",
       "      <td>3.0</td>\n",
       "      <td>0.0</td>\n",
       "      <td>Rental unit</td>\n",
       "      <td>Amsterdam</td>\n",
       "      <td>4.76</td>\n",
       "      <td>1.0</td>\n",
       "      <td>1.0</td>\n",
       "      <td>1.5</td>\n",
       "      <td>private</td>\n",
       "    </tr>\n",
       "    <tr>\n",
       "      <th>4</th>\n",
       "      <td>97647</td>\n",
       "      <td>Centrum-West</td>\n",
       "      <td>52.38761</td>\n",
       "      <td>4.89188</td>\n",
       "      <td>Private room</td>\n",
       "      <td>137.0</td>\n",
       "      <td>3.0</td>\n",
       "      <td>0.0</td>\n",
       "      <td>Houseboat</td>\n",
       "      <td>Amsterdam</td>\n",
       "      <td>4.94</td>\n",
       "      <td>1.0</td>\n",
       "      <td>1.0</td>\n",
       "      <td>1.5</td>\n",
       "      <td>private</td>\n",
       "    </tr>\n",
       "    <tr>\n",
       "      <th>5</th>\n",
       "      <td>776296</td>\n",
       "      <td>De Baarsjes - Oud-West</td>\n",
       "      <td>52.36270</td>\n",
       "      <td>4.85693</td>\n",
       "      <td>Entire home/apt</td>\n",
       "      <td>170.0</td>\n",
       "      <td>3.0</td>\n",
       "      <td>157.0</td>\n",
       "      <td>Rental unit</td>\n",
       "      <td>Amsterdam</td>\n",
       "      <td>4.77</td>\n",
       "      <td>1.0</td>\n",
       "      <td>1.0</td>\n",
       "      <td>1.0</td>\n",
       "      <td>private</td>\n",
       "    </tr>\n",
       "  </tbody>\n",
       "</table>\n",
       "</div>"
      ],
      "text/plain": [
       "   host_id                           neighbourhood  latitude  longitude  \\\n",
       "0     3159  Oostelijk Havengebied - Indische Buurt  52.36435    4.94358   \n",
       "2  1100324                 De Pijp - Rivierenbuurt  52.35150    4.89656   \n",
       "3   748161                                Oud-Oost  52.36420    4.92829   \n",
       "4    97647                            Centrum-West  52.38761    4.89188   \n",
       "5   776296                  De Baarsjes - Oud-West  52.36270    4.85693   \n",
       "\n",
       "         room_type  price in $  minimum_nights  availability_365  \\\n",
       "0     Private room        69.0             3.0               7.0   \n",
       "2  Entire home/apt       270.0             4.0               2.0   \n",
       "3  Entire home/apt       200.0             3.0               0.0   \n",
       "4     Private room       137.0             3.0               0.0   \n",
       "5  Entire home/apt       170.0             3.0             157.0   \n",
       "\n",
       "  Apartment_type       City  Rating  No_of_bed_rooms  No_of_beds  \\\n",
       "0          Condo  Amsterdam    4.89              1.0         1.0   \n",
       "2    Rental unit  Amsterdam    4.86              3.0         3.0   \n",
       "3    Rental unit  Amsterdam    4.76              1.0         1.0   \n",
       "4      Houseboat  Amsterdam    4.94              1.0         1.0   \n",
       "5    Rental unit  Amsterdam    4.77              1.0         1.0   \n",
       "\n",
       "   No_of_bathrooms Bathroom_type  \n",
       "0              1.5        shared  \n",
       "2              1.5       private  \n",
       "3              1.5       private  \n",
       "4              1.5       private  \n",
       "5              1.0       private  "
      ]
     },
     "execution_count": 29,
     "metadata": {},
     "output_type": "execute_result"
    }
   ],
   "source": [
    "df2.head()"
   ]
  },
  {
   "cell_type": "markdown",
   "id": "58d55fe0",
   "metadata": {
    "tags": []
   },
   "source": [
    "### 1.5. Compare the shapes of the original (df) and new (df2) dataframes, and verify there are no missing values in df2."
   ]
  },
  {
   "cell_type": "code",
   "execution_count": 32,
   "id": "b6479b85-b098-417a-ab7a-86e49b323b57",
   "metadata": {
    "tags": []
   },
   "outputs": [
    {
     "name": "stdout",
     "output_type": "stream",
     "text": [
      "Shape of previous data frame:  (7608, 15)\n",
      "Shape of new data frame:  (5108, 15)\n"
     ]
    }
   ],
   "source": [
    "# 1.5.1 code to show shapes of old and new dataframes\n",
    "print(\"Shape of previous data frame: \", df.shape)\n",
    "print(\"Shape of new data frame: \", df2.shape)"
   ]
  },
  {
   "cell_type": "code",
   "execution_count": 34,
   "id": "9af2c0f5-a3b1-46b0-a132-f97b9d4651fb",
   "metadata": {
    "tags": []
   },
   "outputs": [
    {
     "data": {
      "text/plain": [
       "host_id             0\n",
       "neighbourhood       0\n",
       "latitude            0\n",
       "longitude           0\n",
       "room_type           0\n",
       "price in $          0\n",
       "minimum_nights      0\n",
       "availability_365    0\n",
       "Apartment_type      0\n",
       "City                0\n",
       "Rating              0\n",
       "No_of_bed_rooms     0\n",
       "No_of_beds          0\n",
       "No_of_bathrooms     0\n",
       "Bathroom_type       0\n",
       "dtype: int64"
      ]
     },
     "execution_count": 34,
     "metadata": {},
     "output_type": "execute_result"
    }
   ],
   "source": [
    "# 1.5.2 Code to verify no missing values\n",
    "df2.isnull().sum()"
   ]
  },
  {
   "cell_type": "markdown",
   "id": "ce912f4d",
   "metadata": {},
   "source": [
    "### 1.6. **Drop the 'latitude' and 'longitude' columns. How does it affect the shape of the dataset?**"
   ]
  },
  {
   "cell_type": "markdown",
   "id": "a0cb971d",
   "metadata": {},
   "source": [
    "Note: from here forward, work with the df2 DataFrame."
   ]
  },
  {
   "cell_type": "code",
   "execution_count": 38,
   "id": "91c69265-3568-4a97-9e90-15677c70b23e",
   "metadata": {
    "tags": []
   },
   "outputs": [],
   "source": [
    "# 1.6.1 Code goes here\n",
    "# axis = 1 drop cols\n",
    "df2 = df2.drop(columns=['latitude', 'longitude'],axis=1)"
   ]
  },
  {
   "cell_type": "code",
   "execution_count": 40,
   "id": "09ea894c",
   "metadata": {},
   "outputs": [
    {
     "data": {
      "text/plain": [
       "(5108, 13)"
      ]
     },
     "execution_count": 40,
     "metadata": {},
     "output_type": "execute_result"
    }
   ],
   "source": [
    "# 1.6.2 Show new shape\n",
    "df2.shape #number of columns decreases from 15 to 13"
   ]
  },
  {
   "cell_type": "markdown",
   "id": "f4b2b687",
   "metadata": {},
   "source": [
    "### 1.7. **List the  unique values in Apartment_type and Bathroom_type**"
   ]
  },
  {
   "cell_type": "code",
   "execution_count": 43,
   "id": "af8da01e-d2c6-4b25-a047-4610f6e32fcf",
   "metadata": {
    "tags": []
   },
   "outputs": [
    {
     "data": {
      "text/plain": [
       "array(['Condo', 'Rental unit', 'Houseboat', 'Boutique hotel',\n",
       "       'Guest suite', 'Home', 'Loft', 'Boat', 'Bed and breakfast',\n",
       "       'Townhouse', 'Chalet', 'Guesthouse', 'Farm stay',\n",
       "       'Serviced apartment', 'Barn', 'Hotel', 'Cabin', 'Villa',\n",
       "       'Place to stay', 'Tiny home', 'Cottage', 'Nature lodge', 'Tower',\n",
       "       'Hostel', 'Aparthotel', 'Camper/RV', 'Earthen home',\n",
       "       'casa particular', 'Vacation home', 'Tent'], dtype=object)"
      ]
     },
     "execution_count": 43,
     "metadata": {},
     "output_type": "execute_result"
    }
   ],
   "source": [
    "# 1.7.1 Find and list the unique apartment tpyes.\n",
    "df2.Apartment_type.unique()"
   ]
  },
  {
   "cell_type": "code",
   "execution_count": 45,
   "id": "1372613e-f794-4aee-a2da-9dad0b79396d",
   "metadata": {
    "tags": []
   },
   "outputs": [
    {
     "data": {
      "text/plain": [
       "array(['shared', 'private'], dtype=object)"
      ]
     },
     "execution_count": 45,
     "metadata": {},
     "output_type": "execute_result"
    }
   ],
   "source": [
    "# 1.7.2 Find and list the unique bathroom types.\n",
    "df2.Bathroom_type.unique()"
   ]
  },
  {
   "cell_type": "markdown",
   "id": "40d69a7d",
   "metadata": {},
   "source": [
    "### 1.8. **Replace the bathroom types (shared and private) with integers (0 and 1).**"
   ]
  },
  {
   "cell_type": "code",
   "execution_count": 48,
   "id": "1a99c43d-8dc7-4186-accf-cd2c3fa62e0f",
   "metadata": {
    "tags": []
   },
   "outputs": [],
   "source": [
    "# 1.8.1 Replace the strings with integers\n",
    "df2 = df2.replace({'Bathroom_type' : {'shared' : '0', 'private' : '1'}})\n",
    "df2['Bathroom_type'] = df2['Bathroom_type'].astype('int64')"
   ]
  },
  {
   "cell_type": "code",
   "execution_count": 50,
   "id": "64d6f42b-190e-4c81-82a9-2334322a1a8d",
   "metadata": {
    "scrolled": true,
    "tags": []
   },
   "outputs": [
    {
     "name": "stdout",
     "output_type": "stream",
     "text": [
      "<class 'pandas.core.series.Series'>\n",
      "Index: 5108 entries, 0 to 7478\n",
      "Series name: Bathroom_type\n",
      "Non-Null Count  Dtype\n",
      "--------------  -----\n",
      "5108 non-null   int64\n",
      "dtypes: int64(1)\n",
      "memory usage: 79.8 KB\n"
     ]
    },
    {
     "data": {
      "text/plain": [
       "array([0, 1], dtype=int64)"
      ]
     },
     "execution_count": 50,
     "metadata": {},
     "output_type": "execute_result"
    }
   ],
   "source": [
    "# 1.8.2 Verify the changes\n",
    "df2['Bathroom_type'].info()\n",
    "df2.Bathroom_type.unique()"
   ]
  },
  {
   "cell_type": "markdown",
   "id": "f70eef0d-0c39-4a80-bbb9-801fb35b4538",
   "metadata": {},
   "source": [
    "# Part - 2 (Exploratory Data Analysis)"
   ]
  },
  {
   "cell_type": "markdown",
   "id": "a5711bab",
   "metadata": {},
   "source": [
    "Exploratory Data Analysis refers to the critical process of performing initial investigations on data so as to discover patterns, to spot anomalies,to test hypothesis and to check assumptions with the help of summary statistics and graphical representations. "
   ]
  },
  {
   "cell_type": "markdown",
   "id": "01220f3e",
   "metadata": {},
   "source": [
    "### 2.1. **Describe the data.**"
   ]
  },
  {
   "cell_type": "code",
   "execution_count": 55,
   "id": "7f8d7c7a-4296-4a57-a75d-1e2cfa99fc45",
   "metadata": {
    "tags": []
   },
   "outputs": [
    {
     "data": {
      "text/html": [
       "<div>\n",
       "<style scoped>\n",
       "    .dataframe tbody tr th:only-of-type {\n",
       "        vertical-align: middle;\n",
       "    }\n",
       "\n",
       "    .dataframe tbody tr th {\n",
       "        vertical-align: top;\n",
       "    }\n",
       "\n",
       "    .dataframe thead th {\n",
       "        text-align: right;\n",
       "    }\n",
       "</style>\n",
       "<table border=\"1\" class=\"dataframe\">\n",
       "  <thead>\n",
       "    <tr style=\"text-align: right;\">\n",
       "      <th></th>\n",
       "      <th>host_id</th>\n",
       "      <th>price in $</th>\n",
       "      <th>minimum_nights</th>\n",
       "      <th>availability_365</th>\n",
       "      <th>Rating</th>\n",
       "      <th>No_of_bed_rooms</th>\n",
       "      <th>No_of_beds</th>\n",
       "      <th>No_of_bathrooms</th>\n",
       "      <th>Bathroom_type</th>\n",
       "    </tr>\n",
       "  </thead>\n",
       "  <tbody>\n",
       "    <tr>\n",
       "      <th>count</th>\n",
       "      <td>5.108000e+03</td>\n",
       "      <td>5108.000000</td>\n",
       "      <td>5108.000000</td>\n",
       "      <td>5108.000000</td>\n",
       "      <td>5108.000000</td>\n",
       "      <td>5108.000000</td>\n",
       "      <td>5108.000000</td>\n",
       "      <td>5108.000000</td>\n",
       "      <td>5108.000000</td>\n",
       "    </tr>\n",
       "    <tr>\n",
       "      <th>mean</th>\n",
       "      <td>8.957354e+07</td>\n",
       "      <td>250.071427</td>\n",
       "      <td>5.344949</td>\n",
       "      <td>68.873727</td>\n",
       "      <td>4.828872</td>\n",
       "      <td>1.615114</td>\n",
       "      <td>1.615114</td>\n",
       "      <td>1.316856</td>\n",
       "      <td>0.904268</td>\n",
       "    </tr>\n",
       "    <tr>\n",
       "      <th>std</th>\n",
       "      <td>1.283283e+08</td>\n",
       "      <td>239.576562</td>\n",
       "      <td>40.127865</td>\n",
       "      <td>100.861524</td>\n",
       "      <td>0.214108</td>\n",
       "      <td>0.891545</td>\n",
       "      <td>0.891545</td>\n",
       "      <td>0.467762</td>\n",
       "      <td>0.294252</td>\n",
       "    </tr>\n",
       "    <tr>\n",
       "      <th>min</th>\n",
       "      <td>0.000000e+00</td>\n",
       "      <td>18.000000</td>\n",
       "      <td>1.000000</td>\n",
       "      <td>0.000000</td>\n",
       "      <td>1.670000</td>\n",
       "      <td>1.000000</td>\n",
       "      <td>1.000000</td>\n",
       "      <td>0.000000</td>\n",
       "      <td>0.000000</td>\n",
       "    </tr>\n",
       "    <tr>\n",
       "      <th>25%</th>\n",
       "      <td>8.946164e+06</td>\n",
       "      <td>149.000000</td>\n",
       "      <td>2.000000</td>\n",
       "      <td>0.000000</td>\n",
       "      <td>4.750000</td>\n",
       "      <td>1.000000</td>\n",
       "      <td>1.000000</td>\n",
       "      <td>1.000000</td>\n",
       "      <td>1.000000</td>\n",
       "    </tr>\n",
       "    <tr>\n",
       "      <th>50%</th>\n",
       "      <td>2.942286e+07</td>\n",
       "      <td>205.500000</td>\n",
       "      <td>3.000000</td>\n",
       "      <td>12.000000</td>\n",
       "      <td>4.890000</td>\n",
       "      <td>1.000000</td>\n",
       "      <td>1.000000</td>\n",
       "      <td>1.000000</td>\n",
       "      <td>1.000000</td>\n",
       "    </tr>\n",
       "    <tr>\n",
       "      <th>75%</th>\n",
       "      <td>1.051994e+08</td>\n",
       "      <td>300.000000</td>\n",
       "      <td>4.000000</td>\n",
       "      <td>114.000000</td>\n",
       "      <td>5.000000</td>\n",
       "      <td>2.000000</td>\n",
       "      <td>2.000000</td>\n",
       "      <td>1.500000</td>\n",
       "      <td>1.000000</td>\n",
       "    </tr>\n",
       "    <tr>\n",
       "      <th>max</th>\n",
       "      <td>5.126757e+08</td>\n",
       "      <td>10000.000000</td>\n",
       "      <td>1001.000000</td>\n",
       "      <td>365.000000</td>\n",
       "      <td>5.000000</td>\n",
       "      <td>10.000000</td>\n",
       "      <td>10.000000</td>\n",
       "      <td>5.500000</td>\n",
       "      <td>1.000000</td>\n",
       "    </tr>\n",
       "  </tbody>\n",
       "</table>\n",
       "</div>"
      ],
      "text/plain": [
       "            host_id    price in $  minimum_nights  availability_365  \\\n",
       "count  5.108000e+03   5108.000000     5108.000000       5108.000000   \n",
       "mean   8.957354e+07    250.071427        5.344949         68.873727   \n",
       "std    1.283283e+08    239.576562       40.127865        100.861524   \n",
       "min    0.000000e+00     18.000000        1.000000          0.000000   \n",
       "25%    8.946164e+06    149.000000        2.000000          0.000000   \n",
       "50%    2.942286e+07    205.500000        3.000000         12.000000   \n",
       "75%    1.051994e+08    300.000000        4.000000        114.000000   \n",
       "max    5.126757e+08  10000.000000     1001.000000        365.000000   \n",
       "\n",
       "            Rating  No_of_bed_rooms   No_of_beds  No_of_bathrooms  \\\n",
       "count  5108.000000      5108.000000  5108.000000      5108.000000   \n",
       "mean      4.828872         1.615114     1.615114         1.316856   \n",
       "std       0.214108         0.891545     0.891545         0.467762   \n",
       "min       1.670000         1.000000     1.000000         0.000000   \n",
       "25%       4.750000         1.000000     1.000000         1.000000   \n",
       "50%       4.890000         1.000000     1.000000         1.000000   \n",
       "75%       5.000000         2.000000     2.000000         1.500000   \n",
       "max       5.000000        10.000000    10.000000         5.500000   \n",
       "\n",
       "       Bathroom_type  \n",
       "count    5108.000000  \n",
       "mean        0.904268  \n",
       "std         0.294252  \n",
       "min         0.000000  \n",
       "25%         1.000000  \n",
       "50%         1.000000  \n",
       "75%         1.000000  \n",
       "max         1.000000  "
      ]
     },
     "execution_count": 55,
     "metadata": {},
     "output_type": "execute_result"
    }
   ],
   "source": [
    "# Describe data here.\n",
    "df2.describe()"
   ]
  },
  {
   "cell_type": "markdown",
   "id": "59440e43",
   "metadata": {},
   "source": [
    "### 2.2. **Identify significant correlations.**"
   ]
  },
  {
   "cell_type": "code",
   "execution_count": 58,
   "id": "ae404370-d29f-461a-8d0b-2da26bc852e1",
   "metadata": {
    "tags": []
   },
   "outputs": [
    {
     "name": "stdout",
     "output_type": "stream",
     "text": [
      "************CORRELATION MATRIX************\n",
      "\n"
     ]
    },
    {
     "data": {
      "text/html": [
       "<div>\n",
       "<style scoped>\n",
       "    .dataframe tbody tr th:only-of-type {\n",
       "        vertical-align: middle;\n",
       "    }\n",
       "\n",
       "    .dataframe tbody tr th {\n",
       "        vertical-align: top;\n",
       "    }\n",
       "\n",
       "    .dataframe thead th {\n",
       "        text-align: right;\n",
       "    }\n",
       "</style>\n",
       "<table border=\"1\" class=\"dataframe\">\n",
       "  <thead>\n",
       "    <tr style=\"text-align: right;\">\n",
       "      <th></th>\n",
       "      <th>host_id</th>\n",
       "      <th>price in $</th>\n",
       "      <th>minimum_nights</th>\n",
       "      <th>availability_365</th>\n",
       "      <th>Rating</th>\n",
       "      <th>No_of_bed_rooms</th>\n",
       "      <th>No_of_beds</th>\n",
       "      <th>No_of_bathrooms</th>\n",
       "      <th>Bathroom_type</th>\n",
       "    </tr>\n",
       "  </thead>\n",
       "  <tbody>\n",
       "    <tr>\n",
       "      <th>host_id</th>\n",
       "      <td>1.000000</td>\n",
       "      <td>0.042410</td>\n",
       "      <td>-0.009971</td>\n",
       "      <td>0.165185</td>\n",
       "      <td>-0.164723</td>\n",
       "      <td>-0.071205</td>\n",
       "      <td>-0.071205</td>\n",
       "      <td>-0.046735</td>\n",
       "      <td>-0.066510</td>\n",
       "    </tr>\n",
       "    <tr>\n",
       "      <th>price in $</th>\n",
       "      <td>0.042410</td>\n",
       "      <td>1.000000</td>\n",
       "      <td>-0.003072</td>\n",
       "      <td>0.171706</td>\n",
       "      <td>0.045040</td>\n",
       "      <td>0.292805</td>\n",
       "      <td>0.292805</td>\n",
       "      <td>0.266971</td>\n",
       "      <td>0.171660</td>\n",
       "    </tr>\n",
       "    <tr>\n",
       "      <th>minimum_nights</th>\n",
       "      <td>-0.009971</td>\n",
       "      <td>-0.003072</td>\n",
       "      <td>1.000000</td>\n",
       "      <td>0.011592</td>\n",
       "      <td>0.011779</td>\n",
       "      <td>0.005830</td>\n",
       "      <td>0.005830</td>\n",
       "      <td>-0.004859</td>\n",
       "      <td>0.002631</td>\n",
       "    </tr>\n",
       "    <tr>\n",
       "      <th>availability_365</th>\n",
       "      <td>0.165185</td>\n",
       "      <td>0.171706</td>\n",
       "      <td>0.011592</td>\n",
       "      <td>1.000000</td>\n",
       "      <td>-0.167042</td>\n",
       "      <td>-0.065623</td>\n",
       "      <td>-0.065623</td>\n",
       "      <td>-0.028057</td>\n",
       "      <td>-0.178860</td>\n",
       "    </tr>\n",
       "    <tr>\n",
       "      <th>Rating</th>\n",
       "      <td>-0.164723</td>\n",
       "      <td>0.045040</td>\n",
       "      <td>0.011779</td>\n",
       "      <td>-0.167042</td>\n",
       "      <td>1.000000</td>\n",
       "      <td>0.035783</td>\n",
       "      <td>0.035783</td>\n",
       "      <td>0.072711</td>\n",
       "      <td>0.174168</td>\n",
       "    </tr>\n",
       "    <tr>\n",
       "      <th>No_of_bed_rooms</th>\n",
       "      <td>-0.071205</td>\n",
       "      <td>0.292805</td>\n",
       "      <td>0.005830</td>\n",
       "      <td>-0.065623</td>\n",
       "      <td>0.035783</td>\n",
       "      <td>1.000000</td>\n",
       "      <td>1.000000</td>\n",
       "      <td>0.475608</td>\n",
       "      <td>0.188682</td>\n",
       "    </tr>\n",
       "    <tr>\n",
       "      <th>No_of_beds</th>\n",
       "      <td>-0.071205</td>\n",
       "      <td>0.292805</td>\n",
       "      <td>0.005830</td>\n",
       "      <td>-0.065623</td>\n",
       "      <td>0.035783</td>\n",
       "      <td>1.000000</td>\n",
       "      <td>1.000000</td>\n",
       "      <td>0.475608</td>\n",
       "      <td>0.188682</td>\n",
       "    </tr>\n",
       "    <tr>\n",
       "      <th>No_of_bathrooms</th>\n",
       "      <td>-0.046735</td>\n",
       "      <td>0.266971</td>\n",
       "      <td>-0.004859</td>\n",
       "      <td>-0.028057</td>\n",
       "      <td>0.072711</td>\n",
       "      <td>0.475608</td>\n",
       "      <td>0.475608</td>\n",
       "      <td>1.000000</td>\n",
       "      <td>0.102347</td>\n",
       "    </tr>\n",
       "    <tr>\n",
       "      <th>Bathroom_type</th>\n",
       "      <td>-0.066510</td>\n",
       "      <td>0.171660</td>\n",
       "      <td>0.002631</td>\n",
       "      <td>-0.178860</td>\n",
       "      <td>0.174168</td>\n",
       "      <td>0.188682</td>\n",
       "      <td>0.188682</td>\n",
       "      <td>0.102347</td>\n",
       "      <td>1.000000</td>\n",
       "    </tr>\n",
       "  </tbody>\n",
       "</table>\n",
       "</div>"
      ],
      "text/plain": [
       "                   host_id  price in $  minimum_nights  availability_365  \\\n",
       "host_id           1.000000    0.042410       -0.009971          0.165185   \n",
       "price in $        0.042410    1.000000       -0.003072          0.171706   \n",
       "minimum_nights   -0.009971   -0.003072        1.000000          0.011592   \n",
       "availability_365  0.165185    0.171706        0.011592          1.000000   \n",
       "Rating           -0.164723    0.045040        0.011779         -0.167042   \n",
       "No_of_bed_rooms  -0.071205    0.292805        0.005830         -0.065623   \n",
       "No_of_beds       -0.071205    0.292805        0.005830         -0.065623   \n",
       "No_of_bathrooms  -0.046735    0.266971       -0.004859         -0.028057   \n",
       "Bathroom_type    -0.066510    0.171660        0.002631         -0.178860   \n",
       "\n",
       "                    Rating  No_of_bed_rooms  No_of_beds  No_of_bathrooms  \\\n",
       "host_id          -0.164723        -0.071205   -0.071205        -0.046735   \n",
       "price in $        0.045040         0.292805    0.292805         0.266971   \n",
       "minimum_nights    0.011779         0.005830    0.005830        -0.004859   \n",
       "availability_365 -0.167042        -0.065623   -0.065623        -0.028057   \n",
       "Rating            1.000000         0.035783    0.035783         0.072711   \n",
       "No_of_bed_rooms   0.035783         1.000000    1.000000         0.475608   \n",
       "No_of_beds        0.035783         1.000000    1.000000         0.475608   \n",
       "No_of_bathrooms   0.072711         0.475608    0.475608         1.000000   \n",
       "Bathroom_type     0.174168         0.188682    0.188682         0.102347   \n",
       "\n",
       "                  Bathroom_type  \n",
       "host_id               -0.066510  \n",
       "price in $             0.171660  \n",
       "minimum_nights         0.002631  \n",
       "availability_365      -0.178860  \n",
       "Rating                 0.174168  \n",
       "No_of_bed_rooms        0.188682  \n",
       "No_of_beds             0.188682  \n",
       "No_of_bathrooms        0.102347  \n",
       "Bathroom_type          1.000000  "
      ]
     },
     "execution_count": 58,
     "metadata": {},
     "output_type": "execute_result"
    }
   ],
   "source": [
    "# 2.2.1 Build the correlation matrix\n",
    "print(\"************CORRELATION MATRIX************\\n\")\n",
    "df2.corr(numeric_only=True)\n",
    "#corr_kendall = df2.corr(method = 'kendall', numeric_only=True)\n",
    "#corr_spearman = df2.corr(method = 'spearman', numeric_only=True)\n",
    "#print(\"************CORRELATION MATRICES************\\n\")\n",
    "#print(\"PEARSON CORRELATION MATRIX:\\n\", corr_pearson, \"\\n\\nKENDALL CORRELATION MATRIX:\\n\", corr_kendall, \"\\n\\nSPEARMAN CORRELATION MATRIX:\\n\", corr_spearman)"
   ]
  },
  {
   "cell_type": "code",
   "execution_count": 60,
   "id": "bab48646-0771-4fe3-9535-862ec0df9552",
   "metadata": {
    "tags": []
   },
   "outputs": [
    {
     "data": {
      "image/png": "[encoded data removed]",
      "text/plain": [
       "<Figure size 640x480 with 2 Axes>"
      ]
     },
     "metadata": {},
     "output_type": "display_data"
    }
   ],
   "source": [
    "# 2.2.2 Display the correlation matrix as a heatmap\n",
    "sns.heatmap(df2.corr(numeric_only=True).drop(\n",
    "  ['host_id'], axis=1).drop(['host_id'], axis=0),\n",
    "            annot = True, cmap='coolwarm');\n",
    "plt.show()"
   ]
  },
  {
   "cell_type": "markdown",
   "id": "7a5d8fa4",
   "metadata": {},
   "source": [
    "### 2.3. **Check if is there any multicollinearity.**"
   ]
  },
  {
   "cell_type": "code",
   "execution_count": 63,
   "id": "02e7a7e3",
   "metadata": {},
   "outputs": [],
   "source": [
    "#Import the statsmodels tools needed to perform VIF.\n",
    "from statsmodels.stats.outliers_influence import variance_inflation_factor\n",
    "import statsmodels.api as sm"
   ]
  },
  {
   "cell_type": "code",
   "execution_count": 64,
   "id": "55e1a55b-cb83-4aa7-88fb-30dccc1cd4a5",
   "metadata": {
    "tags": []
   },
   "outputs": [
    {
     "name": "stdout",
     "output_type": "stream",
     "text": [
      "      price in $  minimum_nights  availability_365  Rating  No_of_bed_rooms  \\\n",
      "0           69.0             3.0               7.0    4.89              1.0   \n",
      "2          270.0             4.0               2.0    4.86              3.0   \n",
      "3          200.0             3.0               0.0    4.76              1.0   \n",
      "4          137.0             3.0               0.0    4.94              1.0   \n",
      "5          170.0             3.0             157.0    4.77              1.0   \n",
      "...          ...             ...               ...     ...              ...   \n",
      "7364       406.0             1.0             286.0    4.71              1.0   \n",
      "7365       339.0             1.0             235.0    3.67              1.0   \n",
      "7416        99.0             1.0              95.0    4.86              1.0   \n",
      "7425       106.0             1.0              19.0    5.00              1.0   \n",
      "7478       316.0             4.0              12.0    5.00              2.0   \n",
      "\n",
      "      No_of_beds  No_of_bathrooms  Bathroom_type  \n",
      "0            1.0              1.5              0  \n",
      "2            3.0              1.5              1  \n",
      "3            1.0              1.5              1  \n",
      "4            1.0              1.5              1  \n",
      "5            1.0              1.0              1  \n",
      "...          ...              ...            ...  \n",
      "7364         1.0              1.0              1  \n",
      "7365         1.0              1.0              1  \n",
      "7416         1.0              1.0              1  \n",
      "7425         1.0              1.5              0  \n",
      "7478         2.0              1.0              1  \n",
      "\n",
      "[5108 rows x 8 columns]\n"
     ]
    }
   ],
   "source": [
    "# 2.3.1 Select all numerical columns *except* host_id.\n",
    "num_col_no_hostid = df2.select_dtypes(include='number')\n",
    "num_col_no_hostid = num_col_no_hostid.drop('host_id', axis=1)\n",
    "print(num_col_no_hostid)"
   ]
  },
  {
   "cell_type": "code",
   "execution_count": 67,
   "id": "d7a0f77d",
   "metadata": {},
   "outputs": [
    {
     "data": {
      "text/plain": [
       "price in $          0\n",
       "minimum_nights      0\n",
       "availability_365    0\n",
       "Rating              0\n",
       "No_of_bed_rooms     0\n",
       "No_of_beds          0\n",
       "No_of_bathrooms     0\n",
       "Bathroom_type       0\n",
       "dtype: int64"
      ]
     },
     "execution_count": 67,
     "metadata": {},
     "output_type": "execute_result"
    }
   ],
   "source": [
    "# 2.3.2 Make sure there are no missing (NaN) values \n",
    "num_col_no_hostid.isnull().sum()"
   ]
  },
  {
   "cell_type": "code",
   "execution_count": 69,
   "id": "568b0b76",
   "metadata": {},
   "outputs": [],
   "source": [
    "# 2.3.3 Add a constant column for the VIF calculation\n",
    "num_col_no_hostid['vif'] = 100"
   ]
  },
  {
   "cell_type": "code",
   "execution_count": 71,
   "id": "c43aa6c5",
   "metadata": {},
   "outputs": [
    {
     "name": "stdout",
     "output_type": "stream",
     "text": [
      "   FEATURES               VIF\n",
      "0  1.000520    minimum_nights\n",
      "1  1.114930  availability_365\n",
      "2  1.058086            Rating\n",
      "3       inf   No_of_bed_rooms\n",
      "4       inf        No_of_beds\n",
      "5  1.328305   No_of_bathrooms\n",
      "6  1.118485     Bathroom_type\n"
     ]
    },
    {
     "name": "stderr",
     "output_type": "stream",
     "text": [
      "C:\\Users\\mettu\\anaconda3\\Lib\\site-packages\\statsmodels\\stats\\outliers_influence.py:197: RuntimeWarning: divide by zero encountered in scalar divide\n",
      "  vif = 1. / (1. - r_squared_i)\n",
      "C:\\Users\\mettu\\anaconda3\\Lib\\site-packages\\statsmodels\\stats\\outliers_influence.py:197: RuntimeWarning: divide by zero encountered in scalar divide\n",
      "  vif = 1. / (1. - r_squared_i)\n"
     ]
    }
   ],
   "source": [
    "# 2.3.4 Calculate the VIF for each of the columns and display the information.(Make E.C.?)\n",
    "#since there's high collinearity b/w 'No_of_bed_rooms' and 'No_of_beds' R**2 becomes 1\n",
    "DISPLAY_VIF = pd.DataFrame(columns = ['FEATURES','VIF'])\n",
    "vif_calc = variance_inflation_factor \n",
    "for p in range(1,num_col_no_hostid.shape[1]):\n",
    "    col_p = num_col_no_hostid.columns[p]\n",
    "    if np.var(num_col_no_hostid[col_p]) > 0:\n",
    "        DISPLAY_VIF.loc[len(DISPLAY_VIF)] = [vif_calc(num_col_no_hostid.values, p), col_p]\n",
    "print(DISPLAY_VIF)"
   ]
  },
  {
   "cell_type": "markdown",
   "id": "2a3f9455",
   "metadata": {},
   "source": [
    "### 2.4. **Spot outliers in the dataset.**\n",
    "(we will not remove outliers for this homework)."
   ]
  },
  {
   "cell_type": "code",
   "execution_count": 74,
   "id": "f5aab45d-e608-4155-916a-a4ea68affcc4",
   "metadata": {
    "tags": []
   },
   "outputs": [
    {
     "data": {
      "text/plain": [
       "<Axes: xlabel='price in $'>"
      ]
     },
     "execution_count": 74,
     "metadata": {},
     "output_type": "execute_result"
    },
    {
     "data": {
      "image/png": "[encoded data removed]",
      "text/plain": [
       "<Figure size 640x480 with 1 Axes>"
      ]
     },
     "metadata": {},
     "output_type": "display_data"
    }
   ],
   "source": [
    "# 2.4.1. Show boxplot of price in $ \n",
    "sns.boxplot(x='price in $', data=df2)"
   ]
  },
  {
   "cell_type": "code",
   "execution_count": 76,
   "id": "72df07aa-dfbd-41a9-95ce-671f66daed27",
   "metadata": {
    "tags": []
   },
   "outputs": [
    {
     "name": "stdout",
     "output_type": "stream",
     "text": [
      "maximum price in $: 10000.0\n"
     ]
    },
    {
     "data": {
      "image/png": "[encoded data removed]",
      "text/plain": [
       "<Figure size 640x480 with 1 Axes>"
      ]
     },
     "metadata": {},
     "output_type": "display_data"
    }
   ],
   "source": [
    "# 2.4.2 Show the maximum price in $\n",
    "sns.boxplot(x=df2['price in $'])\n",
    "max_price = df2['price in $'].max()\n",
    "print(\"maximum price in $:\", max_price)"
   ]
  },
  {
   "cell_type": "code",
   "execution_count": 78,
   "id": "ab4b4c7d-0cc6-4e79-9ea0-f51124e1b509",
   "metadata": {
    "tags": []
   },
   "outputs": [
    {
     "data": {
      "text/plain": [
       "<Axes: xlabel='minimum_nights'>"
      ]
     },
     "execution_count": 78,
     "metadata": {},
     "output_type": "execute_result"
    },
    {
     "data": {
      "image/png": "[encoded data removed]",
      "text/plain": [
       "<Figure size 640x480 with 1 Axes>"
      ]
     },
     "metadata": {},
     "output_type": "display_data"
    }
   ],
   "source": [
    "# 2.4.3 Show a boxplot for minimum_nights\n",
    "sns.boxplot(x='minimum_nights', data=df2)"
   ]
  },
  {
   "cell_type": "code",
   "execution_count": 80,
   "id": "5dd14340-b802-46fd-8098-66e43c345753",
   "metadata": {
    "tags": []
   },
   "outputs": [
    {
     "data": {
      "text/plain": [
       "<Axes: xlabel='Rating'>"
      ]
     },
     "execution_count": 80,
     "metadata": {},
     "output_type": "execute_result"
    },
    {
     "data": {
      "image/png": "[encoded data removed]",
      "text/plain": [
       "<Figure size 640x480 with 1 Axes>"
      ]
     },
     "metadata": {},
     "output_type": "display_data"
    }
   ],
   "source": [
    "# 2.4.4 Show a boxplot for Rating\n",
    "sns.boxplot(x='Rating', data=df2)"
   ]
  },
  {
   "cell_type": "code",
   "execution_count": 113,
   "id": "aaa4e4a7-d9a7-42ab-aa4b-f8d167ce3d85",
   "metadata": {
    "tags": []
   },
   "outputs": [],
   "source": [
    "# 2.4.5 Define a function to drop outliers beyond a specific multiplier of the IQR.\n",
    "def del_outliers(df2, col_id, f_mul=1.5):\n",
    "    Q1 = np.percentile(df2[col_id], 25, interpolation='midpoint')\n",
    "    Q3 = np.percentile(df2[col_id], 75, interpolation='midpoint')\n",
    "    IQR = Q3 - Q1\n",
    "    upper_bound = Q3 + f_mul * IQR\n",
    "    lower_bound = Q1 - f_mul * IQR\n",
    "    outliers = df2[(df2[col_id] >= upper_bound) | (df2[col_id] <= lower_bound)]\n",
    "    df_del_outliers = df2[~df2.index.isin(outliers.index)]\n",
    "    return df_del_outliers\n",
    "\n",
    "#del_outliers(df2, 'Rating', f_mul=1.5)\n",
    "    "
   ]
  },
  {
   "cell_type": "code",
   "execution_count": 115,
   "id": "3707791b-771a-4c4d-b355-3d2778883d7c",
   "metadata": {
    "tags": []
   },
   "outputs": [
    {
     "name": "stdout",
     "output_type": "stream",
     "text": [
      "Outliers in given columns: \n",
      "        host_id            neighbourhood        room_type  price in $  \\\n",
      "14      1005087             Centrum-West  Entire home/apt       675.0   \n",
      "15       856540  De Pijp - Rivierenbuurt  Entire home/apt       480.0   \n",
      "24       922787                     Zuid  Entire home/apt       250.0   \n",
      "38      1451657                     Zuid  Entire home/apt      1036.0   \n",
      "43       907405   De Baarsjes - Oud-West  Entire home/apt       260.0   \n",
      "...         ...                      ...              ...         ...   \n",
      "7283   29891866  De Pijp - Rivierenbuurt  Entire home/apt       250.0   \n",
      "7302  189511137             Centrum-West     Private room       164.0   \n",
      "7357  311321908             Centrum-West     Private room       539.0   \n",
      "7359  245303717             Centrum-Oost  Entire home/apt       550.0   \n",
      "7365  311321908             Centrum-West     Private room       339.0   \n",
      "\n",
      "      minimum_nights  availability_365 Apartment_type       City  Rating  \\\n",
      "14               2.0             271.0    Guest suite  Amsterdam    4.84   \n",
      "15              14.0             281.0    Rental unit  Amsterdam    4.55   \n",
      "24               9.0              25.0    Rental unit  Amsterdam    4.42   \n",
      "38               2.0             258.0    Rental unit  Amsterdam    4.52   \n",
      "43              30.0             130.0    Rental unit  Amsterdam    4.81   \n",
      "...              ...               ...            ...        ...     ...   \n",
      "7283             3.0             189.0    Rental unit  Amsterdam    4.33   \n",
      "7302             2.0              47.0           Home  Amsterdam    4.33   \n",
      "7357             1.0             348.0          Hotel  Amsterdam    4.91   \n",
      "7359             1.0             158.0          Condo  Amsterdam    5.00   \n",
      "7365             1.0             235.0          Hotel  Amsterdam    3.67   \n",
      "\n",
      "      No_of_bed_rooms  No_of_beds  No_of_bathrooms  Bathroom_type  \n",
      "14                2.0         2.0              1.5              1  \n",
      "15                2.0         2.0              1.5              1  \n",
      "24                2.0         2.0              1.0              1  \n",
      "38                5.0         5.0              1.5              1  \n",
      "43                2.0         2.0              1.0              1  \n",
      "...               ...         ...              ...            ...  \n",
      "7283              2.0         2.0              2.5              1  \n",
      "7302              1.0         1.0              1.0              1  \n",
      "7357              1.0         1.0              1.0              1  \n",
      "7359              2.0         2.0              2.5              1  \n",
      "7365              1.0         1.0              1.0              1  \n",
      "\n",
      "[773 rows x 13 columns]\n"
     ]
    },
    {
     "name": "stderr",
     "output_type": "stream",
     "text": [
      "C:\\Users\\mettu\\AppData\\Local\\Temp\\ipykernel_7572\\1510722277.py:4: DeprecationWarning: the `interpolation=` argument to percentile was renamed to `method=`, which has additional options.\n",
      "Users of the modes 'nearest', 'lower', 'higher', or 'midpoint' are encouraged to review the method they used. (Deprecated NumPy 1.22)\n",
      "  df2_outlier_collection = del_outliers(df2, col_idxx, f_mul=1.5)\n"
     ]
    }
   ],
   "source": [
    "# 2.4.6 Find outliers for 'price in $', 'minimum_nights', and 'Rating' using the standard multiplier (1.5)\n",
    "outlier_var = df2.index\n",
    "for col_idxx in ['price in $', 'minimum_nights', 'Rating']:\n",
    "    df2_outlier_collection = del_outliers(df2, col_idxx, f_mul=1.5)\n",
    "    outlier_var = outlier_var.intersection(df2_outlier_collection.index)\n",
    "\n",
    "outlier_list = df2[~df2.index.isin(outlier_var)]\n",
    "print(\"Outliers in given columns: \")\n",
    "print(outlier_list)"
   ]
  },
  {
   "cell_type": "code",
   "execution_count": 86,
   "id": "12eea4f0-c061-434c-b27e-3d7897a89d22",
   "metadata": {
    "tags": []
   },
   "outputs": [
    {
     "name": "stdout",
     "output_type": "stream",
     "text": [
      "#outliers in each of given columns: \n",
      "price in $: 232\n",
      "minimum_nights: 380\n",
      "Rating: 209\n"
     ]
    },
    {
     "name": "stderr",
     "output_type": "stream",
     "text": [
      "C:\\Users\\mettu\\AppData\\Local\\Temp\\ipykernel_7572\\733026110.py:4: DeprecationWarning: the `interpolation=` argument to percentile was renamed to `method=`, which has additional options.\n",
      "Users of the modes 'nearest', 'lower', 'higher', or 'midpoint' are encouraged to review the method they used. (Deprecated NumPy 1.22)\n",
      "  df2_outlier_collection = del_outliers(df2, col_idxx, f_mul=1.5)\n"
     ]
    }
   ],
   "source": [
    "# 2.4.7 Display the count of outliers in each selected column\n",
    "num_outlier_set = {}\n",
    "for col_idxx in ['price in $', 'minimum_nights', 'Rating']:\n",
    "    df2_outlier_collection = del_outliers(df2, col_idxx, f_mul=1.5)\n",
    "    num_outlier = len(df2) - len(df2_outlier_collection)\n",
    "    num_outlier_set[col_idxx] = num_outlier\n",
    "\n",
    "print(\"#outliers in each of given columns: \")\n",
    "for col_idxx, i_cnt in num_outlier_set.items():\n",
    "    print(f\"{col_idxx}: {i_cnt}\")"
   ]
  },
  {
   "cell_type": "code",
   "execution_count": 88,
   "id": "8bd6997d-bbb5-4361-a4a2-9f983fe47685",
   "metadata": {
    "tags": []
   },
   "outputs": [
    {
     "name": "stdout",
     "output_type": "stream",
     "text": [
      "Result:\n",
      "        host_id            neighbourhood        room_type  price in $  \\\n",
      "38      1451657                     Zuid  Entire home/apt      1036.0   \n",
      "60    176944339               Westerpark  Entire home/apt      1239.0   \n",
      "129     4398387  De Pijp - Rivierenbuurt  Entire home/apt       800.0   \n",
      "188     5714947             Centrum-West  Entire home/apt       950.0   \n",
      "191     5750100             Centrum-Oost  Entire home/apt       970.0   \n",
      "...         ...                      ...              ...         ...   \n",
      "6914    4915746            Bos en Lommer     Private room        50.0   \n",
      "6999  371219931            Bos en Lommer  Entire home/apt       140.0   \n",
      "7040  502914333                Oud-Noord     Private room       150.0   \n",
      "7114  508078823   De Baarsjes - Oud-West     Private room       117.0   \n",
      "7365  311321908             Centrum-West     Private room       339.0   \n",
      "\n",
      "      minimum_nights  availability_365     Apartment_type       City  Rating  \\\n",
      "38               2.0             258.0        Rental unit  Amsterdam    4.52   \n",
      "60               2.0             220.0               Boat  Amsterdam    4.86   \n",
      "129             30.0               0.0               Loft  Amsterdam    4.81   \n",
      "188              3.0             222.0               Loft  Amsterdam    4.98   \n",
      "191              3.0             336.0               Loft  Amsterdam    4.64   \n",
      "...              ...               ...                ...        ...     ...   \n",
      "6914             1.0             100.0        Rental unit  Amsterdam    3.33   \n",
      "6999             5.0              16.0        Rental unit  Amsterdam    4.00   \n",
      "7040             1.0               4.0  Bed and breakfast  Amsterdam    4.00   \n",
      "7114             3.0             358.0        Rental unit  Amsterdam    4.00   \n",
      "7365             1.0             235.0              Hotel  Amsterdam    3.67   \n",
      "\n",
      "      No_of_bed_rooms  No_of_beds  No_of_bathrooms  Bathroom_type  \n",
      "38                5.0         5.0              1.5              1  \n",
      "60               10.0        10.0              2.5              1  \n",
      "129               2.0         2.0              1.0              1  \n",
      "188               3.0         3.0              2.5              1  \n",
      "191               4.0         4.0              1.5              1  \n",
      "...               ...         ...              ...            ...  \n",
      "6914              1.0         1.0              1.0              0  \n",
      "6999              2.0         2.0              1.0              1  \n",
      "7040              1.0         1.0              3.0              0  \n",
      "7114              1.0         1.0              1.0              0  \n",
      "7365              1.0         1.0              1.0              1  \n",
      "\n",
      "[280 rows x 13 columns]\n"
     ]
    },
    {
     "name": "stderr",
     "output_type": "stream",
     "text": [
      "C:\\Users\\mettu\\AppData\\Local\\Temp\\ipykernel_7572\\1526938839.py:2: DeprecationWarning: the `interpolation=` argument to percentile was renamed to `method=`, which has additional options.\n",
      "Users of the modes 'nearest', 'lower', 'higher', or 'midpoint' are encouraged to review the method they used. (Deprecated NumPy 1.22)\n",
      "  Outliers_mul_3 = pd.concat([df2[~df2.index.isin(del_outliers(df2, col_idxx, f_mul=3).index)] for col_idxx in ['price in $', 'minimum_nights', 'Rating']])\n"
     ]
    }
   ],
   "source": [
    "# 2.4.8 Find outliers for the same column using a multiplier of 3.\n",
    "Outliers_mul_3 = pd.concat([df2[~df2.index.isin(del_outliers(df2, col_idxx, f_mul=3).index)] for col_idxx in ['price in $', 'minimum_nights', 'Rating']])\n",
    "print(f\"Result:\\n{Outliers_mul_3}\")"
   ]
  },
  {
   "cell_type": "code",
   "execution_count": 90,
   "id": "f1988f3c",
   "metadata": {},
   "outputs": [
    {
     "name": "stdout",
     "output_type": "stream",
     "text": [
      "#outliers in each of given columns: \n",
      "price in $: 71\n",
      "minimum_nights: 150\n",
      "Rating: 59\n"
     ]
    },
    {
     "name": "stderr",
     "output_type": "stream",
     "text": [
      "C:\\Users\\mettu\\AppData\\Local\\Temp\\ipykernel_7572\\434294029.py:4: DeprecationWarning: the `interpolation=` argument to percentile was renamed to `method=`, which has additional options.\n",
      "Users of the modes 'nearest', 'lower', 'higher', or 'midpoint' are encouraged to review the method they used. (Deprecated NumPy 1.22)\n",
      "  df2_outlier_collection = del_outliers(df2, col_idxx, f_mul=3)\n"
     ]
    }
   ],
   "source": [
    "# 2.4.9 Display the new count of outliers in each selected column\n",
    "num_outlier_set = {}\n",
    "for col_idxx in ['price in $', 'minimum_nights', 'Rating']:\n",
    "    df2_outlier_collection = del_outliers(df2, col_idxx, f_mul=3)\n",
    "    num_outlier = len(df2) - len(df2_outlier_collection)\n",
    "    num_outlier_set[col_idxx] = num_outlier\n",
    "\n",
    "print(\"#outliers in each of given columns: \")\n",
    "for col_idxx, i_cnt in num_outlier_set.items():\n",
    "    print(f\"{col_idxx}: {i_cnt}\")"
   ]
  },
  {
   "cell_type": "raw",
   "id": "6bb49add",
   "metadata": {},
   "source": [
    "2.4.10 What do you think should be done with the outliers for each of the columns?\n",
    "(You are not required to actually remove them for this Homework).\n",
    "\n",
    "price in $:\n",
    "as the outliers can skew the shape and mean of the data points, we can reduce the outliers to fit within the range using scaling.\n",
    "\n",
    "minimum_nights: outliers can be replaced with median since bias from skewed data can be avoided without discarding outliers\n",
    "\n",
    "Rating: replace with median to avoid bias towards extreme rating\n"
   ]
  },
  {
   "cell_type": "markdown",
   "id": "a8144c46-0c57-411e-a3c7-d15b4fee4f7a",
   "metadata": {},
   "source": [
    "### 2.5. **Compute the Average Price for Each Type of Listing.**"
   ]
  },
  {
   "cell_type": "code",
   "execution_count": 93,
   "id": "a7cced60-c5ad-4567-99aa-251076ccc1ba",
   "metadata": {
    "tags": []
   },
   "outputs": [
    {
     "name": "stdout",
     "output_type": "stream",
     "text": [
      "room_type\n",
      "Entire home/apt    267.956400\n",
      "Hotel room         195.833333\n",
      "Private room       163.124324\n",
      "Shared room        162.916667\n",
      "Name: price in $, dtype: float64\n"
     ]
    }
   ],
   "source": [
    "# 2.5.1 Group the data by 'room_type' and calculate the average price for each type\n",
    "df_avg = df2.groupby(['room_type'])['price in $'].mean()\n",
    "print(df_avg)"
   ]
  },
  {
   "cell_type": "code",
   "execution_count": 95,
   "id": "03510d93-19f3-48ec-9f1f-d84e0148fb79",
   "metadata": {
    "tags": []
   },
   "outputs": [
    {
     "data": {
      "image/png": "[encoded data removed]",
      "text/plain": [
       "<Figure size 500x500 with 1 Axes>"
      ]
     },
     "metadata": {},
     "output_type": "display_data"
    }
   ],
   "source": [
    "# 2.5.2 Plot and display the average price for each room type\n",
    "plt.figure(figsize=(5, 5))\n",
    "colour_list = ['#ffa07a', '#a2add0', '#aaf0d1', '#f0e68c' ]\n",
    "df_avg.plot(kind='bar', color = colour_list)\n",
    "plt.xlabel('room_type')\n",
    "plt.ylabel('avg_price_in_$')\n",
    "plt.show()"
   ]
  },
  {
   "cell_type": "markdown",
   "id": "27dc4a6d",
   "metadata": {},
   "source": [
    "### 2.6. **How Many Listings Are There for Each Unique 'Apartment Type'?**"
   ]
  },
  {
   "cell_type": "code",
   "execution_count": 98,
   "id": "52a47b7a-0f56-4d02-98a5-82eb5ec643b6",
   "metadata": {
    "tags": []
   },
   "outputs": [
    {
     "name": "stdout",
     "output_type": "stream",
     "text": [
      "Frequency of each Apartment_type:\n",
      "Apartment_type\n",
      "Rental unit           2448\n",
      "Condo                 1104\n",
      "Home                   449\n",
      "Townhouse              234\n",
      "Loft                   159\n",
      "Houseboat              154\n",
      "Bed and breakfast      130\n",
      "Boat                   102\n",
      "Serviced apartment      66\n",
      "Guest suite             51\n",
      "Hostel                  42\n",
      "Boutique hotel          40\n",
      "Hotel                   34\n",
      "Guesthouse              17\n",
      "Villa                   14\n",
      "Place to stay           12\n",
      "Vacation home           12\n",
      "casa particular         10\n",
      "Aparthotel               9\n",
      "Tiny home                6\n",
      "Cabin                    4\n",
      "Cottage                  2\n",
      "Chalet                   2\n",
      "Farm stay                1\n",
      "Earthen home             1\n",
      "Nature lodge             1\n",
      "Camper/RV                1\n",
      "Tower                    1\n",
      "Barn                     1\n",
      "Tent                     1\n",
      "Name: count, dtype: int64\n"
     ]
    }
   ],
   "source": [
    "# 2.6.1 Count the frequency of each unique 'Apartment_type'\n",
    "frq_apt = df2['Apartment_type'].value_counts()\n",
    "print(\"Frequency of each Apartment_type:\")\n",
    "print(frq_apt)"
   ]
  },
  {
   "cell_type": "code",
   "execution_count": 100,
   "id": "aa3171de-3e64-424b-8e3f-d0d58fee3ebe",
   "metadata": {
    "tags": []
   },
   "outputs": [
    {
     "data": {
      "image/png": "[encoded data removed]",
      "text/plain": [
       "<Figure size 1000x1000 with 1 Axes>"
      ]
     },
     "metadata": {},
     "output_type": "display_data"
    }
   ],
   "source": [
    "# 2.6.2 Plot the frequency distribution of 'Apartment_type'\n",
    "plt.figure(figsize=(10, 10))\n",
    "colour_list = ['#ffa07a', '#ace1af', '#87ceeb', '#dcd0ff', '#f0e68c', '#c9dc87', '#d1bea8', '#aaf0d1', '#ffc0cb', '#ff9f00' ]\n",
    "df2['Apartment_type'].value_counts().plot(kind='bar', color = colour_list)\n",
    "plt.title('Frequency Distribution of Apartment Types')\n",
    "plt.xlabel('Apartment Type')\n",
    "plt.ylabel('Frequency')\n",
    "plt.show()"
   ]
  },
  {
   "cell_type": "code",
   "execution_count": 102,
   "id": "4b4521c8",
   "metadata": {
    "tags": []
   },
   "outputs": [
    {
     "data": {
      "image/png": "[encoded data removed]",
      "text/plain": [
       "<Figure size 1000x1000 with 1 Axes>"
      ]
     },
     "metadata": {},
     "output_type": "display_data"
    }
   ],
   "source": [
    "# 2.6.3. Find, Plot, and Display the top 10 most common apartment types\n",
    "plt.figure(figsize=(10, 10))\n",
    "colour_list = ['#ffa07a', '#ace1af', '#87ceeb', '#dcd0ff', '#f0e68c', '#c9dc87', '#d1bea8', '#aaf0d1', '#ffc0cb', '#ff9f00' ]\n",
    "df2['Apartment_type'].value_counts().nlargest(10).plot(kind='bar', color = colour_list)\n",
    "plt.title('10 most common Apartment Types')\n",
    "plt.xlabel('Apartment Type')\n",
    "plt.ylabel('Frequency')\n",
    "plt.show()"
   ]
  },
  {
   "cell_type": "code",
   "execution_count": 104,
   "id": "4d8d7fd8-c71e-4dd2-9126-26966aed8e98",
   "metadata": {},
   "outputs": [
    {
     "data": {
      "image/png": "[encoded data removed]",
      "text/plain": [
       "<Figure size 1000x500 with 1 Axes>"
      ]
     },
     "metadata": {},
     "output_type": "display_data"
    }
   ],
   "source": [
    "# 2.6.4 Find, Plot, and Display the bottom 5 least common apartment types\n",
    "plt.figure(figsize=(10, 5))\n",
    "colour_list = ['#ffa07a', '#ace1af', '#87ceeb', '#dcd0ff', '#f0e68c']\n",
    "df2['Apartment_type'].value_counts().nsmallest(5).plot(kind='bar', color = colour_list)\n",
    "plt.title('5 least common Apartment Types')\n",
    "plt.xlabel('Apartment Type')\n",
    "plt.ylabel('Frequency')\n",
    "plt.show()"
   ]
  },
  {
   "cell_type": "markdown",
   "id": "e5400d3c",
   "metadata": {},
   "source": [
    "### 2.7. **Identify the Top 5 Neighbourhoods with the Highest Average Listing Prices.**"
   ]
  },
  {
   "cell_type": "code",
   "execution_count": 107,
   "id": "0c573356-e266-4550-8cb7-895afacd1efc",
   "metadata": {
    "tags": []
   },
   "outputs": [
    {
     "name": "stdout",
     "output_type": "stream",
     "text": [
      "Top 5 most expensive neighbourhoods:\n",
      "neighbourhood\n",
      "Centrum-West                332.298308\n",
      "Centrum-Oost                305.447601\n",
      "Zuid                        271.715134\n",
      "De Pijp - Rivierenbuurt     267.334606\n",
      "IJburg - Zeeburgereiland    262.265746\n",
      "Name: price in $, dtype: float64\n"
     ]
    }
   ],
   "source": [
    "# 2.7.1 Find the top 5 most expensive neighbourhoods based on average price\n",
    "nbhd_avg_price = df2.groupby('neighbourhood')['price in $'].mean()\n",
    "top5_list = nbhd_avg_price.nlargest(5)\n",
    "print(f\"Top 5 most expensive neighbourhoods:\\n{top5_list}\")"
   ]
  },
  {
   "cell_type": "code",
   "execution_count": 109,
   "id": "606edc4e",
   "metadata": {},
   "outputs": [
    {
     "data": {
      "image/png": "[encoded data removed]",
      "text/plain": [
       "<Figure size 1000x500 with 1 Axes>"
      ]
     },
     "metadata": {},
     "output_type": "display_data"
    }
   ],
   "source": [
    "# 2.7.2. Plot and display the top 5 most expensive neighbourhoods\n",
    "plt.figure(figsize=(10, 5))\n",
    "colour_list = ['#ffa07a', '#ace1af', '#87ceeb', '#dcd0ff', '#f0e68c']\n",
    "top5_list.plot(kind='bar', color = colour_list)\n",
    "plt.title('5 top expensive neighbourhoods')\n",
    "plt.xlabel('neighbourhood')\n",
    "plt.ylabel('avg price')\n",
    "plt.show()"
   ]
  },
  {
   "cell_type": "code",
   "execution_count": null,
   "id": "f6b17323-7f5b-4158-9f65-a586975c8a24",
   "metadata": {},
   "outputs": [],
   "source": []
  }
 ],
 "metadata": {
  "kernelspec": {
   "display_name": "Python 3 (ipykernel)",
   "language": "python",
   "name": "python3"
  },
  "language_info": {
   "codemirror_mode": {
    "name": "ipython",
    "version": 3
   },
   "file_extension": ".py",
   "mimetype": "text/x-python",
   "name": "python",
   "nbconvert_exporter": "python",
   "pygments_lexer": "ipython3",
   "version": "3.12.4"
  }
 },
 "nbformat": 4,
 "nbformat_minor": 5
}
